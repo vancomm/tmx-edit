{
 "cells": [
  {
   "cell_type": "code",
   "execution_count": 5,
   "metadata": {},
   "outputs": [],
   "source": [
    "from copy import deepcopy\n",
    "import regex as re\n",
    "from tmx import load_tmx"
   ]
  },
  {
   "cell_type": "code",
   "execution_count": 13,
   "metadata": {},
   "outputs": [],
   "source": [
    "source_file = \"../data/tagless-digital-ling (1)-en_us-ru_ru-T.tmx\"\n",
    "source_tmx = load_tmx(source_file)\n",
    "patched_tmx = deepcopy(source_tmx)"
   ]
  },
  {
   "cell_type": "code",
   "execution_count": 14,
   "metadata": {},
   "outputs": [
    {
     "data": {
      "text/plain": [
       "162"
      ]
     },
     "execution_count": 14,
     "metadata": {},
     "output_type": "execute_result"
    }
   ],
   "source": [
    "assert source_tmx.tus\n",
    "assert patched_tmx.tus\n",
    "\n",
    "double_quote = re.compile(r\"[᳓＂“”‟″‶〃˝ʺ˶ˮ«»]\")\n",
    "\n",
    "patches = 0\n",
    "for itu, tu in enumerate(source_tmx.tus):\n",
    "    for ituv, tuv in enumerate(tu.tuvs):\n",
    "        text = tuv.runs[0].text or \"\"\n",
    "        patched_text = double_quote.sub('\"', text)\n",
    "        if text != patched_text:\n",
    "            patches += 1\n",
    "            patched_tmx.tus[itu].tuvs[ituv].runs[0].text = patched_text\n",
    "\n",
    "patches"
   ]
  },
  {
   "cell_type": "code",
   "execution_count": null,
   "metadata": {},
   "outputs": [],
   "source": [
    "patched_tmx.export(\"../data/digital-ling-QUOTES_FIX-en_us-ru_ru-T.tmx\")"
   ]
  },
  {
   "cell_type": "code",
   "execution_count": 15,
   "metadata": {},
   "outputs": [],
   "source": [
    "source_file = \"../data/digital-ling-QUOTES_FIX-en_us-ru_ru-T.tmx\"\n",
    "source_tmx = load_tmx(source_file)\n",
    "patched_tmx = deepcopy(source_tmx)"
   ]
  },
  {
   "cell_type": "code",
   "execution_count": 16,
   "metadata": {},
   "outputs": [
    {
     "data": {
      "text/plain": [
       "112"
      ]
     },
     "execution_count": 16,
     "metadata": {},
     "output_type": "execute_result"
    }
   ],
   "source": [
    "assert source_tmx.tus\n",
    "assert patched_tmx.tus\n",
    "\n",
    "dash_re = re.compile(r\"\\p{Pd}\")\n",
    "\n",
    "patches = 0\n",
    "for itu, tu in enumerate(source_tmx.tus):\n",
    "    for ituv, tuv in enumerate(tu.tuvs):\n",
    "        text = tuv.runs[0].text or \"\"\n",
    "        patched_text = dash_re.sub('-', text)\n",
    "        if text != patched_text:\n",
    "            patches += 1\n",
    "            patched_tmx.tus[itu].tuvs[ituv].runs[0].text = patched_text\n",
    "\n",
    "patches"
   ]
  },
  {
   "cell_type": "code",
   "execution_count": 12,
   "metadata": {},
   "outputs": [],
   "source": [
    "patched_tmx.export(\"../data/digital-ling-QUOTES_AND_DASHES_FIX-en_us-ru_ru-T.tmx\")"
   ]
  },
  {
   "cell_type": "code",
   "execution_count": 20,
   "metadata": {},
   "outputs": [
    {
     "data": {
      "text/plain": [
       "['Furthermore, there exist theoretical models-notably solution trees-to guide one’s thoughts in trying to understand their search trees.',\n",
       " 'Кроме того, существуют теоретические модели - в частности, деревья решений - которые направляют мысли человека при попытке понять их деревья поиска.']"
      ]
     },
     "execution_count": 20,
     "metadata": {},
     "output_type": "execute_result"
    }
   ],
   "source": [
    "assert patched_tmx.tus\n",
    "\n",
    "[t.runs[0].text for t in patched_tmx.tus[213].tuvs]"
   ]
  }
 ],
 "metadata": {
  "kernelspec": {
   "display_name": ".venv",
   "language": "python",
   "name": "python3"
  },
  "language_info": {
   "codemirror_mode": {
    "name": "ipython",
    "version": 3
   },
   "file_extension": ".py",
   "mimetype": "text/x-python",
   "name": "python",
   "nbconvert_exporter": "python",
   "pygments_lexer": "ipython3",
   "version": "3.12.2"
  }
 },
 "nbformat": 4,
 "nbformat_minor": 2
}
